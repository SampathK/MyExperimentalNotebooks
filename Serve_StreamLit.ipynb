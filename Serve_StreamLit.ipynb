{
  "nbformat": 4,
  "nbformat_minor": 0,
  "metadata": {
    "colab": {
      "provenance": [],
      "authorship_tag": "ABX9TyOu+bn3GVkUV2IMTcJVNiUu",
      "include_colab_link": true
    },
    "kernelspec": {
      "name": "python3",
      "display_name": "Python 3"
    },
    "language_info": {
      "name": "python"
    }
  },
  "cells": [
    {
      "cell_type": "markdown",
      "metadata": {
        "id": "view-in-github",
        "colab_type": "text"
      },
      "source": [
        "<a href=\"https://colab.research.google.com/github/SampathK/MyExperimentalNotebooks/blob/main/Serve_StreamLit.ipynb\" target=\"_parent\"><img src=\"https://colab.research.google.com/assets/colab-badge.svg\" alt=\"Open In Colab\"/></a>"
      ]
    },
    {
      "cell_type": "code",
      "execution_count": 2,
      "metadata": {
        "colab": {
          "base_uri": "https://localhost:8080/"
        },
        "id": "KcQNnsp_vu6b",
        "outputId": "0f68ae5b-8481-4bad-a23f-c8ba00c87d62"
      },
      "outputs": [
        {
          "output_type": "stream",
          "name": "stdout",
          "text": [
            "     ━━━━━━━━━━━━━━━━━━━━━━━━━━━━━━━━━━━━━━━━ 8.6/8.6 MB 40.0 MB/s eta 0:00:00\n",
            "     ━━━━━━━━━━━━━━━━━━━━━━━━━━━━━━━━━━━━━━━━ 207.3/207.3 kB 13.7 MB/s eta 0:00:00\n",
            "     ━━━━━━━━━━━━━━━━━━━━━━━━━━━━━━━━━━━━━━━━ 6.9/6.9 MB 49.9 MB/s eta 0:00:00\n",
            "     ━━━━━━━━━━━━━━━━━━━━━━━━━━━━━━━━━━━━━━━━ 83.0/83.0 kB 4.7 MB/s eta 0:00:00\n",
            "     ━━━━━━━━━━━━━━━━━━━━━━━━━━━━━━━━━━━━━━━━ 62.7/62.7 kB 5.6 MB/s eta 0:00:00\n"
          ]
        }
      ],
      "source": [
        "%%sh\n",
        "pip install -Uq streamlit\n",
        "pip install -Uq transformers"
      ]
    },
    {
      "cell_type": "code",
      "source": [
        "%%writefile app.py\n",
        "import streamlit as st\n",
        "from transformers import pipeline\n",
        "import time\n",
        "\n",
        "# Load your model (with caching to improve performance)\n",
        "@st.cache_resource()\n",
        "def load_model():\n",
        "    model = pipeline('text-generation', model='gpt2')\n",
        "    return model\n",
        "\n",
        "model = load_model()\n",
        "\n",
        "# Set up your web app\n",
        "st.title('GPT-2 Story Completer')\n",
        "st.header('Enter text to complete:')\n",
        "\n",
        "user_input = st.text_area('Write something to activate the AI:', height=200)\n",
        "max_length = st.slider(\"Select max story length:\", min_value=50, max_value=200, value=100, step=10)\n",
        "num_sequences = st.selectbox(\"Select number of stories to generate:\", options=[1, 2, 3], index=0)\n",
        "\n",
        "if st.button('Generate Story'):\n",
        "    with st.spinner('Generating Story...'):\n",
        "        response = model(user_input, max_length=max_length, num_return_sequences=num_sequences)\n",
        "        for i, summary in enumerate(response):\n",
        "            st.write(f'**Story {i+1}:**')\n",
        "            st.write(summary['generated_text'])\n",
        "            st.markdown(\"---\")\n",
        "\n",
        "st.sidebar.markdown(\"## Guide\")\n",
        "st.sidebar.info(\"This tool uses GPT-2 to generate a story of your provided text. Adjust the sliders to change the story length and number of stories generated. The model is optimized for short to medium length paragraphs.\")\n",
        "st.sidebar.markdown(\"### Examples\")\n",
        "st.sidebar.write(\"1. Paste a beginning to see how the AI completes it.\")\n",
        "st.sidebar.write(\"2. Try different settings to see how the story changes.\")"
      ],
      "metadata": {
        "colab": {
          "base_uri": "https://localhost:8080/"
        },
        "id": "NQuJ90Kpv75D",
        "outputId": "9a825562-4b29-4cc5-9015-2bb7a88071a6"
      },
      "execution_count": 3,
      "outputs": [
        {
          "output_type": "stream",
          "name": "stdout",
          "text": [
            "Writing app.py\n"
          ]
        }
      ]
    },
    {
      "cell_type": "code",
      "source": [
        "!npm install -g localtunnel"
      ],
      "metadata": {
        "colab": {
          "base_uri": "https://localhost:8080/"
        },
        "id": "SwjaCOS1wUv8",
        "outputId": "92f9224b-edc4-4733-fc5d-0512f132a1ae"
      },
      "execution_count": 4,
      "outputs": [
        {
          "output_type": "stream",
          "name": "stdout",
          "text": [
            "\u001b[K\u001b[?25h/tools/node/bin/lt -> /tools/node/lib/node_modules/localtunnel/bin/lt.js\n",
            "+ localtunnel@2.0.2\n",
            "added 22 packages from 22 contributors in 3.687s\n"
          ]
        }
      ]
    },
    {
      "cell_type": "code",
      "source": [
        "!curl ipv4.icanhazip.com"
      ],
      "metadata": {
        "colab": {
          "base_uri": "https://localhost:8080/"
        },
        "id": "M6HW8WhpwX55",
        "outputId": "423b5884-07a3-412e-b5ca-5c7ae8dd2fd4"
      },
      "execution_count": 5,
      "outputs": [
        {
          "output_type": "stream",
          "name": "stdout",
          "text": [
            "35.245.87.58\n"
          ]
        }
      ]
    },
    {
      "cell_type": "code",
      "source": [
        "!streamlit run app.py &>./logs.txt & npx localtunnel --port 8501"
      ],
      "metadata": {
        "colab": {
          "base_uri": "https://localhost:8080/"
        },
        "id": "TKjvG3yPweAh",
        "outputId": "9890376c-3e6c-44a5-c29b-bf622ac8cab2"
      },
      "execution_count": 6,
      "outputs": [
        {
          "output_type": "stream",
          "name": "stdout",
          "text": [
            "\u001b[K\u001b[?25hnpx: installed 22 in 4.25s\n",
            "your url is: https://better-hounds-knock.loca.lt\n",
            "^C\n"
          ]
        }
      ]
    }
  ]
}