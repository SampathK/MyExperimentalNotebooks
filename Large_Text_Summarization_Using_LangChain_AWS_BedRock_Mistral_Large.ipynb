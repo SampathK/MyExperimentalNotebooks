{
  "nbformat": 4,
  "nbformat_minor": 0,
  "metadata": {
    "colab": {
      "provenance": [],
      "authorship_tag": "ABX9TyNkqWKu1YUNe+BWmCemn8VM",
      "include_colab_link": true
    },
    "kernelspec": {
      "name": "python3",
      "display_name": "Python 3"
    },
    "language_info": {
      "name": "python"
    }
  },
  "cells": [
    {
      "cell_type": "markdown",
      "metadata": {
        "id": "view-in-github",
        "colab_type": "text"
      },
      "source": [
        "<a href=\"https://colab.research.google.com/github/SampathK/MyExperimentalNotebooks/blob/main/Large_Text_Summarization_Using_LangChain_AWS_BedRock_Mistral_Large.ipynb\" target=\"_parent\"><img src=\"https://colab.research.google.com/assets/colab-badge.svg\" alt=\"Open In Colab\"/></a>"
      ]
    },
    {
      "cell_type": "code",
      "execution_count": 1,
      "metadata": {
        "colab": {
          "base_uri": "https://localhost:8080/"
        },
        "id": "DQOlt2znQhdd",
        "outputId": "723e1e09-5265-45f1-8406-a47d77fecfeb"
      },
      "outputs": [
        {
          "output_type": "stream",
          "name": "stdout",
          "text": [
            "     ━━━━━━━━━━━━━━━━━━━━━━━━━━━━━━━━━━━━━━━━ 139.2/139.2 kB 826.2 kB/s eta 0:00:00\n",
            "     ━━━━━━━━━━━━━━━━━━━━━━━━━━━━━━━━━━━━━━━━ 974.6/974.6 kB 24.9 MB/s eta 0:00:00\n",
            "     ━━━━━━━━━━━━━━━━━━━━━━━━━━━━━━━━━━━━━━━━ 2.2/2.2 MB 34.8 MB/s eta 0:00:00\n",
            "     ━━━━━━━━━━━━━━━━━━━━━━━━━━━━━━━━━━━━━━━━ 1.1/1.1 MB 25.6 MB/s eta 0:00:00\n",
            "     ━━━━━━━━━━━━━━━━━━━━━━━━━━━━━━━━━━━━━━━━ 12.3/12.3 MB 50.7 MB/s eta 0:00:00\n",
            "     ━━━━━━━━━━━━━━━━━━━━━━━━━━━━━━━━━━━━━━━━ 82.2/82.2 kB 7.2 MB/s eta 0:00:00\n",
            "     ━━━━━━━━━━━━━━━━━━━━━━━━━━━━━━━━━━━━━━━━ 321.8/321.8 kB 19.5 MB/s eta 0:00:00\n",
            "     ━━━━━━━━━━━━━━━━━━━━━━━━━━━━━━━━━━━━━━━━ 127.1/127.1 kB 9.7 MB/s eta 0:00:00\n",
            "     ━━━━━━━━━━━━━━━━━━━━━━━━━━━━━━━━━━━━━━━━ 49.2/49.2 kB 3.3 MB/s eta 0:00:00\n",
            "     ━━━━━━━━━━━━━━━━━━━━━━━━━━━━━━━━━━━━━━━━ 145.0/145.0 kB 5.2 MB/s eta 0:00:00\n"
          ]
        }
      ],
      "source": [
        "%%sh\n",
        "pip install -Uq boto3 langchain langchain_community tiktoken"
      ]
    },
    {
      "cell_type": "code",
      "source": [
        "file_path = \"./input/meeting_1.txt\"\n",
        "\n",
        "# Open the file in read mode and read its contents into a string\n",
        "with open(file_path, \"r\") as file:\n",
        "    call_transcripts = file.read()"
      ],
      "metadata": {
        "id": "dbLparvoQ7Jw"
      },
      "execution_count": 2,
      "outputs": []
    },
    {
      "cell_type": "code",
      "source": [
        "import re\n",
        "\n",
        "def preprocess_transcript(transcript):\n",
        "    # Remove timestamps (assuming the format is [hh:mm:ss])\n",
        "    transcript = re.sub(r'\\[\\d{2}:\\d{2}:\\d{2}\\]', '', transcript)\n",
        "\n",
        "    # Remove extra whitespace\n",
        "    transcript = re.sub(r'\\s+', ' ', transcript).strip()\n",
        "\n",
        "    # Remove any unnecessary special characters (if needed)\n",
        "    transcript = re.sub(r'[^\\w\\s.,?!:]', '', transcript)\n",
        "\n",
        "    transcript = re.sub(r\"<.*>\", \"\", transcript)\n",
        "    transcript = re.sub(r\"\\[(.*)\\]\", \"\", transcript)\n",
        "    transcript = re.sub(r\"\\n\\n\\n\", \"\\n\", transcript)\n",
        "\n",
        "    return transcript"
      ],
      "metadata": {
        "id": "MUSmr2tNScRF"
      },
      "execution_count": 3,
      "outputs": []
    },
    {
      "cell_type": "code",
      "source": [
        "processed_transcript = preprocess_transcript(call_transcripts)"
      ],
      "metadata": {
        "id": "15TbamLtShTJ"
      },
      "execution_count": 4,
      "outputs": []
    },
    {
      "cell_type": "code",
      "source": [
        "from langchain_community.document_loaders import TextLoader\n",
        "def get_document(file_path):\n",
        "    loader = TextLoader(file_path)\n",
        "    return loader.load()"
      ],
      "metadata": {
        "id": "sRpNGs15Tzz9"
      },
      "execution_count": 10,
      "outputs": []
    },
    {
      "cell_type": "code",
      "source": [
        "doc = get_document(file_path)"
      ],
      "metadata": {
        "id": "jc1pHOzYaU7L"
      },
      "execution_count": 14,
      "outputs": []
    },
    {
      "cell_type": "code",
      "source": [
        "from langchain.text_splitter import RecursiveCharacterTextSplitter\n",
        "\n",
        "def split_doc(doc, chunk_size, chunk_overlap):\n",
        "    # Create a RecursiveCharacterTextSplitter instance\n",
        "    splitter = RecursiveCharacterTextSplitter(\n",
        "        chunk_size=chunk_size,  # Set the chunk size\n",
        "        chunk_overlap=chunk_overlap,  # Set the chunk overlap\n",
        "        separators=['\\n', '.', '\\n\\n'],  # Define the separators\n",
        "        keep_separator=False  # Do not keep the separators\n",
        "    )\n",
        "\n",
        "    # Split the text using the RecursiveCharacterTextSplitter\n",
        "    chunks = splitter.split_documents(doc)\n",
        "    return chunks"
      ],
      "metadata": {
        "id": "KA_c1X1Law98"
      },
      "execution_count": 15,
      "outputs": []
    },
    {
      "cell_type": "code",
      "source": [
        "import boto3\n",
        "from langchain_community.chat_models import BedrockChat\n",
        "from google.colab import userdata\n",
        "def get_aws_bedrock_summarization_llm():\n",
        "  model_id = \"mistral.mistral-large-2402-v1:0\"\n",
        "  session = boto3.client(\n",
        "    aws_access_key_id=userdata.get(\"AWS_SERVER_PUBLIC_KEY\"),\n",
        "    aws_secret_access_key=userdata.get(\"AWS_SERVER_SECRET_KEY\"),\n",
        "    service_name=\"bedrock-runtime\",\n",
        "    region_name=\"us-east-1\"\n",
        "  )\n",
        "  model_kwargs =  {\n",
        "    \"temperature\": 0.2,\n",
        "    \"max_tokens\": 8192,\n",
        "    \"top_p\": 1,\n",
        "    \"top_k\": 200,\n",
        "    \"stop\":[\"</s>\"]\n",
        "  }\n",
        "  model = BedrockChat(\n",
        "    client=session,\n",
        "    model_id=model_id,\n",
        "    model_kwargs=model_kwargs,\n",
        "  )\n",
        "  return model\n"
      ],
      "metadata": {
        "id": "nggX3Tve9-uZ"
      },
      "execution_count": 9,
      "outputs": []
    },
    {
      "cell_type": "code",
      "source": [
        "from langchain.chains import MapReduceDocumentsChain, ReduceDocumentsChain\n",
        "from langchain_text_splitters import CharacterTextSplitter\n",
        "from langchain_core.prompts import PromptTemplate\n",
        "from langchain.chains.llm import LLMChain\n",
        "from langchain.chains.combine_documents.stuff import StuffDocumentsChain\n",
        "\n",
        "\n",
        "\n",
        "llm = get_aws_bedrock_summarization_llm()\n",
        "map_template = \"\"\"<s>[INST]<text>{docs}</text>\n",
        "Please summarize the above meeting transcript within text XML into a comprehensive summary, including all key details. The summary should include the following fields:\n",
        "\n",
        "1. Participants: List all unique participants or human or owner names mentioned in the meeting.\n",
        "2. Summary: Provide a brief overview of the main topics discussed during the meeting.\n",
        "3. Key Points: Extract the most significant points discussed.\n",
        "4. Decisions Made: List all decisions made during the meeting.\n",
        "5. Action Items: Include detailed action items with descriptions, owners, and deadlines.\n",
        "6. Strengths: Capture any positive aspects or strengths highlighted during the meeting.\n",
        "7. Weaknesses: Capture any negative aspects or weaknesses highlighted during the meeting.\n",
        "8. Progress Updates: Provide updates on previous action items and overall project progress.\n",
        "9. Meeting Date and Time: Record the date and time when the meeting took place.\n",
        "10. Meeting Duration: Accuaretely calculately duration of the meeting in Minutes, else do not include this field.\n",
        "11. Meeting Type: Categorize the type of meeting (e.g., planning, review, status update).\n",
        "12. Sentiment Scores: Provide numeric scores for positive and negative sentiments.\n",
        "13. Tags: Include keywords or tags relevant to the meeting content.\n",
        "14. Project Name: Associate the meeting with a specific project.\n",
        "15. Location: Specify the location (physical or virtual) of the meeting.\n",
        "The final summary should be in JSON format, avoid any other additional text structured as follows:\n",
        "{{\n",
        "  \"participants\": [\"Participant 1\", \"Participant 2\", \"Participant 3\", ...],\n",
        "  \"summary\": \"Brief overview of the meeting and main topics discussed.\",\n",
        "  \"key_points\": [\n",
        "    \"Key point 1\",\n",
        "    \"Key point 2\",\n",
        "    \"Key point 3\",\n",
        "    ...\n",
        "  ],\n",
        "  \"decisions_made\": [\n",
        "    \"Decision 1\",\n",
        "    \"Decision 2\",\n",
        "    \"Decision 3\",\n",
        "    ...\n",
        "  ],\n",
        "  \"action_items\": [\n",
        "    {{\"description\": \"Action item 1\", \"owner\": \"Person 1\", \"deadline\": \"YYYY-MM-DD\"}},\n",
        "    {{\"description\": \"Action item 2\", \"owner\": \"Person 2\", \"deadline\": \"YYYY-MM-DD\"}},\n",
        "    ...\n",
        "  ],\n",
        "  \"strengths\": [\n",
        "    \"Positive aspect 1\",\n",
        "    \"Positive aspect 2\",\n",
        "    ...\n",
        "  ],\n",
        "  \"weaknesses\": [\n",
        "    \"Negative aspect 1\",\n",
        "    \"Negative aspect 2\",\n",
        "    ...\n",
        "  ],\n",
        "  \"progress_updates\": [\n",
        "    \"Update on previous action item 1\",\n",
        "    \"Update on previous action item 2\",\n",
        "    ...\n",
        "  ],\n",
        "  \"meeting_date\": \"YYYY-MM-DDTHH:MM:SSZ\",\n",
        "  \"meeting_duration\": \"60 Min\",\n",
        "  \"meeting_type\": \"Planning\",\n",
        "  \"positive_sentiment_score\": 0.8,\n",
        "  \"negative_sentiment_score\": 0.1,\n",
        "  \"tags\": [\"tag1\", \"tag2\", \"tag3\"],\n",
        "  \"project_name\": \"Project Name\",\n",
        "  \"location\": \"Location\"}} [/INST]\"\"\"\n",
        "map_prompt = PromptTemplate.from_template(map_template)\n",
        "map_chain = LLMChain(llm=llm, prompt=map_prompt)\n",
        "reduce_template = \"\"\"<s>[INST]<summaries>{docs}</summaries>\n",
        "Please summarize the above client meeting transcript summaries within summaries XML tag of a document into a concise, comprehensive consolidated summary. Make sure to include the key points, decisions made, action items, positive and negative sentiments, progress updates, and names of participants mentioned in the summaries.\n",
        "If it is not possible to create a single summary without losing important details due to length constraints, provide the summaries as they are.\n",
        "The summary should include:\n",
        "1. Participants: List all unique participants mentioned in the meeting.\n",
        "2. Summary: Provide a brief overview of the unique main topics discussed during the meeting.\n",
        "3. Key Points: Extract the most significant unique points discussed.\n",
        "4. Decisions Made: List all unique decisions made during the meeting.\n",
        "5. Action Items: Include detailed unique action items with descriptions, owners, and deadlines.\n",
        "6. Strengths: Capture any unique positive aspects or strengths highlighted during the meeting.\n",
        "7. Weaknesses: Capture any unique negative aspects or weaknesses highlighted during the meeting.\n",
        "8. Progress Updates: Provide unique updates on previous action items and overall project progress.\n",
        "9. Meeting Date and Time: Record the date and time when the meeting took place.\n",
        "10. Meeting Duration: Accuaretely calculately duration of the meeting in Minutes, else do not include this field.\n",
        "11. Meeting Type: Categorize the type of meeting (e.g., planning, review, status update).\n",
        "12. Sentiment Scores: Provide overall numeric scores for positive and negative sentiments.\n",
        "13. Tags: Include unique keywords or tags relevant to the meeting content.\n",
        "14. Project Name: Associate the meeting with a specific project.\n",
        "15. Location: Specify the location (physical or virtual) of the meeting.\n",
        "The final summary should be in only JSON format Avoid any other additional texts, structured as follows:\n",
        "{{\n",
        "  \"participants\": [\"Participant 1\", \"Participant 2\", \"Participant 3\", ...],\n",
        "  \"summary\": \"Brief overview of the meeting and main topics discussed.\",\n",
        "  \"key_points\": [\n",
        "    \"Key point 1\",\n",
        "    \"Key point 2\",\n",
        "    \"Key point 3\",\n",
        "    ...\n",
        "  ],\n",
        "  \"decisions_made\": [\n",
        "    \"Decision 1\",\n",
        "    \"Decision 2\",\n",
        "    \"Decision 3\",\n",
        "    ...\n",
        "  ],\n",
        "  \"action_items\": [\n",
        "    {{\"description\": \"Action item 1\", \"owner\": \"Person 1\", \"deadline\": \"YYYY-MM-DD\"}},\n",
        "    {{\"description\": \"Action item 2\", \"owner\": \"Person 2\", \"deadline\": \"YYYY-MM-DD\"}},\n",
        "    ...\n",
        "  ],\n",
        "  \"strengths\": [\n",
        "    \"Positive aspect 1\",\n",
        "    \"Positive aspect 2\",\n",
        "    ...\n",
        "  ],\n",
        "  \"weaknesses\": [\n",
        "    \"Negative aspect 1\",\n",
        "    \"Negative aspect 2\",\n",
        "    ...\n",
        "  ],\n",
        "  \"progress_updates\": [\n",
        "    \"Update on previous action item 1\",\n",
        "    \"Update on previous action item 2\",\n",
        "    ...\n",
        "  ],\n",
        "  \"meeting_date\": \"YYYY-MM-DDTHH:MM:SSZ\",\n",
        "  \"meeting_duration\": \"60 Min\",\n",
        "  \"meeting_type\": \"Planning\",\n",
        "  \"positive_sentiment_score\": 0.8,\n",
        "  \"negative_sentiment_score\": 0.1,\n",
        "  \"tags\": [\"tag1\", \"tag2\", \"tag3\"],\n",
        "  \"project_name\": \"Project Name\",\n",
        "  \"location\": \"Location\"\n",
        "  }}\n",
        "  [/INST]\"\"\"\n",
        "reduce_prompt = PromptTemplate.from_template(reduce_template)\n",
        "reduce_chain = LLMChain(llm=llm, prompt=reduce_prompt)\n",
        "\n",
        "# Takes a list of documents, combines them into a single string, and passes this to an LLMChain\n",
        "combine_documents_chain = StuffDocumentsChain(\n",
        "    llm_chain=reduce_chain, document_variable_name=\"docs\"\n",
        ")\n",
        "\n",
        "# Combines and iteratively reduces the mapped documents\n",
        "reduce_documents_chain = ReduceDocumentsChain(\n",
        "    # This is final chain that is called.\n",
        "    combine_documents_chain=combine_documents_chain,\n",
        "    # If documents exceed context for `StuffDocumentsChain`\n",
        "    collapse_documents_chain=combine_documents_chain,\n",
        "    # The maximum number of tokens to group documents into.\n",
        "    token_max=8192,\n",
        ")\n",
        "chunk_size = 8192\n",
        "chunk_overlap = 2048\n",
        "split_docs = split_doc(doc,chunk_size,chunk_overlap)\n",
        "map_reduce_chain = MapReduceDocumentsChain(\n",
        "    # Map chain\n",
        "    llm_chain=map_chain,\n",
        "    # Reduce chain\n",
        "    reduce_documents_chain=reduce_documents_chain,\n",
        "    # The variable name in the llm_chain to put the documents in\n",
        "    document_variable_name=\"docs\",\n",
        "    # Return the results of the map steps in the output\n",
        "    return_intermediate_steps=False,\n",
        ")\n",
        "result = map_reduce_chain.invoke(split_docs)"
      ],
      "metadata": {
        "id": "4Jhcn9FB5LCv"
      },
      "execution_count": 33,
      "outputs": []
    },
    {
      "cell_type": "code",
      "source": [
        "print(result[\"output_text\"])"
      ],
      "metadata": {
        "colab": {
          "base_uri": "https://localhost:8080/"
        },
        "id": "eFV2sgc7cRY_",
        "outputId": "a6eadb60-8960-451e-8ace-b6eb0e695b44"
      },
      "execution_count": 34,
      "outputs": [
        {
          "output_type": "stream",
          "name": "stdout",
          "text": [
            " {\n",
            "  \"participants\": [\"Emily\", \"John\", \"Jane\", \"Michael\", \"Sarah\"],\n",
            "  \"summary\": \"Discussion on marketing campaign strategies, including social media marketing, SEO, and email campaigns, as well as a weekly check-in on influencer collaborations, email campaigns, SEO improvements, and social media engagement.\",\n",
            "  \"key_points\": [\n",
            "    \"Increase online presence and drive more traffic to the website\",\n",
            "    \"Focus on creating more interactive content for social media\",\n",
            "    \"Segment audience for email campaigns and tailor content to their interests\",\n",
            "    \"Optimize website content with relevant keywords and improve user experience for SEO\",\n",
            "    \"Received responses from 3 out of 5 influencers, with 2 interested in collaborations\",\n",
            "    \"Improved email campaign performance with increased open rates and click-through rates\",\n",
            "    \"SEO improvements implemented, resulting in better site speed and increased organic search traffic\",\n",
            "    \"Social media engagement has plateaued and needs adjustment\"\n",
            "  ],\n",
            "  \"decisions_made\": [\n",
            "    \"Implement social media content calendar with interactive posts\",\n",
            "    \"Collaborate with influencers to expand reach\",\n",
            "    \"Use data segmentation for email campaigns\",\n",
            "    \"Conduct SEO audit and implement necessary changes\",\n",
            "    \"Move forward with the two interested influencers\",\n",
            "    \"Adjust social media content strategy and consider running targeted ads\"\n",
            "  ],\n",
            "  \"action_items\": [\n",
            "    {\"description\": \"Create social media content calendar\", \"owner\": \"Jane\", \"deadline\": \"2023-04-30\"},\n",
            "    {\"description\": \"Identify and reach out to potential influencers\", \"owner\": \"Jane\", \"deadline\": \"2023-05-15\"},\n",
            "    {\"description\": \"Segment audience for email campaigns\", \"owner\": \"Sarah\", \"deadline\": \"2023-04-30\"},\n",
            "    {\"description\": \"Conduct SEO audit and implement changes\", \"owner\": \"Michael\", \"deadline\": \"2023-05-30\"},\n",
            "    {\"description\": \"Finalize details with the interested influencers\", \"owner\": \"Jane\", \"deadline\": \"Not specified\"},\n",
            "    {\"description\": \"Coordinate with the social media team to adjust strategy and plan targeted ads\", \"owner\": \"Michael\", \"deadline\": \"Not specified\"}\n",
            "  ],\n",
            "  \"strengths\": [\n",
            "    \"Steady website traffic\",\n",
            "    \"Decent email open rates\",\n",
            "    \"Engaging social media posts with interactive content\",\n",
            "    \"Improved email campaign performance\",\n",
            "    \"Increased organic search traffic due to SEO improvements\"\n",
            "  ],\n",
            "  \"weaknesses\": [\n",
            "    \"Slight decline in website traffic\",\n",
            "    \"Inconsistent social media engagement\",\n",
            "    \"Low email click-through rates\",\n",
            "    \"Plateaued social media engagement\"\n",
            "  ],\n",
            "  \"progress_updates\": [\n",
            "    \"Email campaigns performing well with new templates\",\n",
            "    \"SEO improvements implemented and showing positive results\"\n",
            "  ],\n",
            "  \"meeting_date\": \"2023-04-01T00:00:00Z\",\n",
            "  \"meeting_duration\": \"20 Min\",\n",
            "  \"meeting_type\": \"Planning\",\n",
            "  \"positive_sentiment_score\": 0.85,\n",
            "  \"negative_sentiment_score\": 0.15,\n",
            "  \"tags\": [\"marketing\", \"social media\", \"SEO\", \"email campaigns\", \"influencer collaboration\", \"marketing campaign\"],\n",
            "  \"project_name\": \"Acme Corp Marketing Campaign\",\n",
            "  \"location\": \"Virtual Meeting\"\n",
            "}\n"
          ]
        }
      ]
    }
  ]
}